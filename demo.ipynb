{
 "cells": [
  {
   "cell_type": "markdown",
   "id": "8106aee5-1be4-4e37-9857-8c0a32fa4f82",
   "metadata": {},
   "source": [
    "# Module Demonstration Notebook\n",
    "\n",
    "This notebook demonstrates how to use our custom module. It includes examples for:\n",
    "\n",
    "- Data cleaning functions\n",
    "- Device matching functions\n",
    "- File search functions\n",
    "\n",
    "Feel free to modify the examples as needed.\n"
   ]
  },
  {
   "cell_type": "code",
   "execution_count": 2,
   "id": "93818611-b1f4-47c5-9a40-3377ef0d3b16",
   "metadata": {
    "execution": {
     "iopub.execute_input": "2025-02-14T08:08:29.009322Z",
     "iopub.status.busy": "2025-02-14T08:08:29.008548Z",
     "iopub.status.idle": "2025-02-14T08:08:55.937683Z",
     "shell.execute_reply": "2025-02-14T08:08:55.934692Z",
     "shell.execute_reply.started": "2025-02-14T08:08:29.009248Z"
    }
   },
   "outputs": [
    {
     "name": "stderr",
     "output_type": "stream",
     "text": [
      "/home/anhlq/envs/matching/lib/python3.10/site-packages/tqdm/auto.py:21: TqdmWarning: IProgress not found. Please update jupyter and ipywidgets. See https://ipywidgets.readthedocs.io/en/stable/user_install.html\n",
      "  from .autonotebook import tqdm as notebook_tqdm\n"
     ]
    },
    {
     "name": "stdout",
     "output_type": "stream",
     "text": [
      "Successfully imported Device Matching Module\n"
     ]
    }
   ],
   "source": [
    "import os\n",
    "import pandas as pd\n",
    "import numpy as np\n",
    "from rapidfuzz import fuzz, process\n",
    "from user_agents import parse\n",
    "\n",
    "# Import functions from your module (adjust the module/package name accordingly)\n",
    "from deviceMatching_V1 import (\n",
    "    identify_categorical_columns,\n",
    "    proccess_online_web,\n",
    "    log_data_clean,\n",
    "    procces_online_app,\n",
    "    process_hifpt,\n",
    "    proccess_telecom,\n",
    "    load_sentence_transformer,\n",
    "    precompute_column_embeddings,\n",
    "    match_all_queries,\n",
    "    filter_by_brand,\n",
    "    filter_by_model_exact,\n",
    "    find_file,\n",
    "    find_parquet_file\n",
    ")\n"
   ]
  },
  {
   "cell_type": "markdown",
   "id": "2259de35-67d9-4df5-8dca-1462e7282fdb",
   "metadata": {},
   "source": [
    "## 1. Data Cleaning Functions"
   ]
  },
  {
   "cell_type": "code",
   "execution_count": 4,
   "id": "861702a5-86e4-4101-86a1-759628cc6f24",
   "metadata": {
    "execution": {
     "iopub.execute_input": "2025-02-14T08:11:06.380259Z",
     "iopub.status.busy": "2025-02-14T08:11:06.379592Z",
     "iopub.status.idle": "2025-02-14T08:11:06.434005Z",
     "shell.execute_reply": "2025-02-14T08:11:06.430703Z",
     "shell.execute_reply.started": "2025-02-14T08:11:06.380198Z"
    }
   },
   "outputs": [
    {
     "name": "stdout",
     "output_type": "stream",
     "text": [
      "Original DataFrame:\n",
      "    col1  col2 user_agent                mac\n",
      "0  HELLO   foo     Chrome               None\n",
      "1   None   BAR       None  00:1A:2B:3C:4D:5E\n",
      "2  WORLD  None    Firefox  AA:BB:CC:DD:EE:FF\n",
      "\n",
      "Cleaned DataFrame using log_data_clean:\n",
      "      col1     col2 user_agent                mac\n",
      "0    hello      foo     Chrome            unknown\n",
      "1  unknown      bar    unknown  00:1A:2B:3C:4D:5E\n",
      "2    world  unknown    Firefox  AA:BB:CC:DD:EE:FF\n",
      "\n",
      "Cleaned Online Web Data using proccess_online_web:\n",
      "   cdp_id user_id device_brand device_model device_type       os os_version  \\\n",
      "0       1      -1      samsung       galaxy       phone  android         10   \n",
      "1       2       1      unknown         note      tablet      ios         14   \n",
      "\n",
      "  user_agent context_device_model marketing_name  \n",
      "0    unknown             sm-g950f        unknown  \n",
      "1    Mozilla               iphone     galaxy s10  \n"
     ]
    }
   ],
   "source": [
    "# Create a dummy DataFrame for log_data_clean demonstration\n",
    "df = pd.DataFrame({\n",
    "    'col1': ['HELLO', None, 'WORLD'],\n",
    "    'col2': ['foo', 'BAR', None],\n",
    "    'user_agent': ['Chrome', None, 'Firefox'],\n",
    "    'mac': [None, '00:1A:2B:3C:4D:5E', 'AA:BB:CC:DD:EE:FF']\n",
    "})\n",
    "\n",
    "print(\"Original DataFrame:\")\n",
    "print(df)\n",
    "\n",
    "# Test log_data_clean function\n",
    "df_clean = log_data_clean(df)\n",
    "print(\"\\nCleaned DataFrame using log_data_clean:\")\n",
    "print(df_clean)\n",
    "\n",
    "# Create a dummy DataFrame for proccess_online_web demonstration\n",
    "df_online_web = pd.DataFrame({\n",
    "    \"cdp_id\": [1, 2],\n",
    "    \"user_id\": [None, \"1\"],\n",
    "    \"device_brand\": [\"Samsung\", None],\n",
    "    \"device_model\": [\"Galaxy\", \"Note\"],\n",
    "    \"device_type\": [\"phone\", \"tablet\"],\n",
    "    \"os\": [\"Android\", \"iOS\"],\n",
    "    \"os_version\": [\"10\", \"14\"],\n",
    "    \"user_agent\": [None, \"Mozilla\"],\n",
    "    \"context_device_model\": [\"SM-G950F\", \"iPhone\"],\n",
    "    \"marketing_name\": [None, \"Galaxy S10\"]\n",
    "})\n",
    "\n",
    "df_online_clean = proccess_online_web(df_online_web)\n",
    "print(\"\\nCleaned Online Web Data using proccess_online_web:\")\n",
    "print(df_online_clean)\n"
   ]
  },
  {
   "cell_type": "markdown",
   "id": "54fa33dd-23d2-4c05-b7ec-34c1f1b1db98",
   "metadata": {},
   "source": [
    "## 2. Device Matching Functions"
   ]
  },
  {
   "cell_type": "code",
   "execution_count": 5,
   "id": "f449a454-56cb-4670-98f2-31e5f730f63e",
   "metadata": {
    "execution": {
     "iopub.execute_input": "2025-02-14T08:12:12.928099Z",
     "iopub.status.busy": "2025-02-14T08:12:12.926622Z",
     "iopub.status.idle": "2025-02-14T08:12:12.982231Z",
     "shell.execute_reply": "2025-02-14T08:12:12.980970Z",
     "shell.execute_reply.started": "2025-02-14T08:12:12.928014Z"
    }
   },
   "outputs": [
    {
     "name": "stdout",
     "output_type": "stream",
     "text": [
      "Exact match for 'Samsung' in filter_by_brand:\n",
      "     Brand\n",
      "1  Samsung\n",
      "\n",
      "Fuzzy match for 'samsng' in filter_by_brand:\n",
      "     Brand\n",
      "1  Samsung\n",
      "\n",
      "No match for 'Nokia' in filter_by_brand (should be empty):\n",
      "Empty DataFrame\n",
      "Columns: []\n",
      "Index: []\n",
      "\n",
      "Exact match for 'Galaxy S21' in filter_by_model_exact:\n",
      "{'matched_model_name': None, 'matched_models': None, 'source': 'No Match'}\n",
      "\n",
      "No match when both model and marketing name are 'unknown' in filter_by_model_exact:\n",
      "{'matched_model_name': None, 'matched_models': None, 'source': 'No Match'}\n",
      "\n",
      "Contains match for 'GD1YQ' in filter_by_model_exact:\n",
      "{'matched_model_name': None, 'matched_models': None, 'source': 'No Match'}\n"
     ]
    }
   ],
   "source": [
    "# Create a dummy device dictionary DataFrame for brand matching\n",
    "df_brand = pd.DataFrame({\n",
    "    \"Brand\": [\"Apple\", \"Samsung\", \"Google\", \"OnePlus\"]\n",
    "})\n",
    "\n",
    "# Test filter_by_brand with an exact match\n",
    "log_brand_exact = \"Samsung\"\n",
    "result_exact = filter_by_brand(log_brand_exact, df_brand)\n",
    "print(\"Exact match for 'Samsung' in filter_by_brand:\")\n",
    "print(result_exact)\n",
    "\n",
    "# Test filter_by_brand with a fuzzy match (intentional typo)\n",
    "log_brand_fuzzy = \"samsng\"\n",
    "result_fuzzy = filter_by_brand(log_brand_fuzzy, df_brand)\n",
    "print(\"\\nFuzzy match for 'samsng' in filter_by_brand:\")\n",
    "print(result_fuzzy)\n",
    "\n",
    "# Test filter_by_brand with no match\n",
    "log_brand_none = \"Nokia\"\n",
    "result_none = filter_by_brand(log_brand_none, df_brand)\n",
    "print(\"\\nNo match for 'Nokia' in filter_by_brand (should be empty):\")\n",
    "print(result_none)\n",
    "\n",
    "# Create a dummy device dictionary DataFrame for model matching\n",
    "df_model = pd.DataFrame({\n",
    "    \"Model Name\": [\"iPhone 12\", \"Galaxy S21\", \"Pixel 5\", \"Nord\"],\n",
    "    \"Models\": [\"A2172, A2402\", \"SM-G991B\", \"GD1YQ\", \"A series\"]\n",
    "})\n",
    "\n",
    "# Test filter_by_model_exact with an exact match on Model Name\n",
    "log_model = \"Galaxy S21\"\n",
    "log_marketing_name = \"unknown\"\n",
    "result_model_exact = filter_by_model_exact(log_model, log_marketing_name, df_model)\n",
    "print(\"\\nExact match for 'Galaxy S21' in filter_by_model_exact:\")\n",
    "print(result_model_exact)\n",
    "\n",
    "# Test filter_by_model_exact with both values as 'unknown'\n",
    "result_model_unknown = filter_by_model_exact(\"unknown\", \"unknown\", df_model)\n",
    "print(\"\\nNo match when both model and marketing name are 'unknown' in filter_by_model_exact:\")\n",
    "print(result_model_unknown)\n",
    "\n",
    "# Test filter_by_model_exact using a substring that appears in the 'Models' column\n",
    "log_model_contains = \"GD1YQ\"\n",
    "result_model_contains = filter_by_model_exact(log_model_contains, \"unknown\", df_model)\n",
    "print(\"\\nContains match for 'GD1YQ' in filter_by_model_exact:\")\n",
    "print(result_model_contains)\n"
   ]
  },
  {
   "cell_type": "code",
   "execution_count": null,
   "id": "db4620b0-db5c-4e11-b5c5-bee075e11039",
   "metadata": {},
   "outputs": [],
   "source": [
    "## 3. File Search Functions\n"
   ]
  },
  {
   "cell_type": "code",
   "execution_count": 6,
   "id": "4bb24fe2-6ba6-4d83-be44-0d78121cf8d6",
   "metadata": {
    "execution": {
     "iopub.execute_input": "2025-02-14T08:12:56.812093Z",
     "iopub.status.busy": "2025-02-14T08:12:56.811270Z",
     "iopub.status.idle": "2025-02-14T08:12:56.831876Z",
     "shell.execute_reply": "2025-02-14T08:12:56.830453Z",
     "shell.execute_reply.started": "2025-02-14T08:12:56.812030Z"
    }
   },
   "outputs": [
    {
     "name": "stdout",
     "output_type": "stream",
     "text": [
      "find_file result (should find test.txt):\n",
      "/tmp/tmpnfaw52x9/test.txt\n",
      "\n",
      "find_file result for 'nonexistent.txt' (should be None):\n",
      "None\n",
      "Found Parquet directory: data.parquet\n",
      "\n",
      "find_parquet_file result (should find directory 'data.parquet'):\n",
      "/tmp/tmpq1khsylo/data.parquet\n",
      "Found Parquet file: datafile.parquet\n",
      "\n",
      "find_parquet_file result (should find file 'datafile.parquet'):\n",
      "/tmp/tmpq1khsylo/subfolder/datafile.parquet\n",
      "\n",
      "find_parquet_file result for 'nonexistent.parquet' (should be None):\n",
      "None\n"
     ]
    }
   ],
   "source": [
    "import tempfile\n",
    "\n",
    "# Test find_file function using a temporary directory\n",
    "with tempfile.TemporaryDirectory() as tmp_dir:\n",
    "    test_file_name = \"test.txt\"\n",
    "    test_file_path = os.path.join(tmp_dir, test_file_name)\n",
    "    with open(test_file_path, \"w\") as f:\n",
    "        f.write(\"dummy content\")\n",
    "    \n",
    "    found_path = find_file(test_file_name, tmp_dir)\n",
    "    print(\"find_file result (should find test.txt):\")\n",
    "    print(found_path)\n",
    "    \n",
    "    not_found = find_file(\"nonexistent.txt\", tmp_dir)\n",
    "    print(\"\\nfind_file result for 'nonexistent.txt' (should be None):\")\n",
    "    print(not_found)\n",
    "\n",
    "# Test find_parquet_file function using a temporary directory\n",
    "with tempfile.TemporaryDirectory() as tmp_dir:\n",
    "    # Create a directory named \"data.parquet\"\n",
    "    parquet_dir_name = \"data.parquet\"\n",
    "    parquet_dir_path = os.path.join(tmp_dir, parquet_dir_name)\n",
    "    os.mkdir(parquet_dir_path)\n",
    "\n",
    "    # Create a subdirectory with a dummy Parquet file\n",
    "    sub_dir = os.path.join(tmp_dir, \"subfolder\")\n",
    "    os.mkdir(sub_dir)\n",
    "    parquet_file_name = \"datafile.parquet\"\n",
    "    parquet_file_path = os.path.join(sub_dir, parquet_file_name)\n",
    "    with open(parquet_file_path, \"w\") as f:\n",
    "        f.write(\"dummy parquet content\")\n",
    "\n",
    "    found_dir = find_parquet_file(parquet_dir_name, tmp_dir)\n",
    "    print(\"\\nfind_parquet_file result (should find directory 'data.parquet'):\")\n",
    "    print(found_dir)\n",
    "    \n",
    "    found_file = find_parquet_file(parquet_file_name, tmp_dir)\n",
    "    print(\"\\nfind_parquet_file result (should find file 'datafile.parquet'):\")\n",
    "    print(found_file)\n",
    "    \n",
    "    not_found_parquet = find_parquet_file(\"nonexistent.parquet\", tmp_dir)\n",
    "    print(\"\\nfind_parquet_file result for 'nonexistent.parquet' (should be None):\")\n",
    "    print(not_found_parquet)\n"
   ]
  },
  {
   "cell_type": "code",
   "execution_count": null,
   "id": "4823a39e-9e0c-460d-bd96-77c323843cbd",
   "metadata": {},
   "outputs": [],
   "source": []
  },
  {
   "cell_type": "code",
   "execution_count": null,
   "id": "f63d0fd9-be49-4fac-828a-6a17fabb9425",
   "metadata": {},
   "outputs": [],
   "source": []
  }
 ],
 "metadata": {
  "kernelspec": {
   "display_name": "Python (matching)",
   "language": "python",
   "name": "matching"
  },
  "language_info": {
   "codemirror_mode": {
    "name": "ipython",
    "version": 3
   },
   "file_extension": ".py",
   "mimetype": "text/x-python",
   "name": "python",
   "nbconvert_exporter": "python",
   "pygments_lexer": "ipython3",
   "version": "3.10.16"
  }
 },
 "nbformat": 4,
 "nbformat_minor": 5
}
